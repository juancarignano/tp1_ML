{
 "cells": [
  {
   "cell_type": "code",
   "execution_count": 1,
   "id": "3ad52c30-1df6-41db-9936-402c39204c27",
   "metadata": {},
   "outputs": [
    {
     "name": "stdout",
     "output_type": "stream",
     "text": [
      "Dataset already exists\n"
     ]
    }
   ],
   "source": [
    "# Dataset de 23.6 MB\n",
    "import gdown\n",
    "import os\n",
    "\n",
    "file_id = '1yY7QtyB3UP8ToKZ0CUDFrDXCZRmdJnll'\n",
    "dataset_url = f'https://drive.google.com/uc?id={file_id}'\n",
    "dataset_path = 'data/Loan_default.csv'\n",
    "\n",
    "os.makedirs(os.path.dirname(dataset_path), exist_ok=True)\n",
    "\n",
    "if not os.path.exists(dataset_path):\n",
    "    print(\"Downloading dataset...\")\n",
    "    gdown.download(dataset_url, dataset_path, quiet=False)\n",
    "    print(\"Dataset downloaded and saved to\", dataset_path)\n",
    "else:\n",
    "    print(\"Dataset already exists\")\n"
   ]
  },
  {
   "cell_type": "code",
   "execution_count": null,
   "id": "65ebb5c8-172d-4e4a-8805-30eae83e979c",
   "metadata": {},
   "outputs": [],
   "source": []
  }
 ],
 "metadata": {
  "kernelspec": {
   "display_name": "Python 3 (ipykernel)",
   "language": "python",
   "name": "python3"
  },
  "language_info": {
   "codemirror_mode": {
    "name": "ipython",
    "version": 3
   },
   "file_extension": ".py",
   "mimetype": "text/x-python",
   "name": "python",
   "nbconvert_exporter": "python",
   "pygments_lexer": "ipython3",
   "version": "3.12.2"
  }
 },
 "nbformat": 4,
 "nbformat_minor": 5
}
